{
 "cells": [
  {
   "cell_type": "markdown",
   "id": "b82c4754",
   "metadata": {},
   "source": [
    "# Input data and libraries"
   ]
  },
  {
   "cell_type": "code",
   "execution_count": 1,
   "id": "a50199cf",
   "metadata": {
    "code_folding": []
   },
   "outputs": [],
   "source": [
    "# Input libraries\n",
    "import gurobipy as gp\n",
    "from gurobipy import GRB\n",
    "import pandas as pd\n",
    "import numpy as np\n",
    "import matplotlib.pyplot as plt\n",
    "import math\n",
    "from datetime import datetime\n",
    "# import pandapower as pp"
   ]
  },
  {
   "cell_type": "code",
   "execution_count": 2,
   "id": "3d971cbd",
   "metadata": {
    "code_folding": []
   },
   "outputs": [],
   "source": [
    "# MEF\n",
    "MEF = pd.read_csv(\"./source_data/CA_LR_24h.csv\",index_col = 0)['MEF'].tolist()"
   ]
  },
  {
   "cell_type": "code",
   "execution_count": 3,
   "id": "6b53f8f9",
   "metadata": {
    "code_folding": []
   },
   "outputs": [],
   "source": [
    "# EV charging data from a workplace in the whole year of 2019\n",
    "\n",
    "# With an example of the scenario with 50 charging piles. The other available numbers are 10, 90, 130, 170, 210, 250, 290, 330, 370, 410, 450\n",
    "EVC_workplace_annual_50 = pd.read_csv(\"./result/EVC/EVC_workplace_50.csv\",index_col=0)"
   ]
  },
  {
   "cell_type": "code",
   "execution_count": 4,
   "id": "8f6dde5f",
   "metadata": {
    "code_folding": []
   },
   "outputs": [],
   "source": [
    "# based load of a workplace building with 30 floors from 2018 to 2020\n",
    "BL_workplace_avg = pd.read_csv(\"./result/base_load/BL_workplace_annual_avg.csv\",index_col=[0,1])\n",
    "BL_workplace_25th = pd.read_csv(\"./result/base_load/BL_workplace_annual_25th.csv\",index_col=[0,1])\n",
    "BL_workplace_75th = pd.read_csv(\"./result/base_load/BL_workplace_annual_75th.csv\",index_col=[0,1])\n",
    "\n",
    "BL_workplace_2019_avg = BL_workplace_avg.loc[BL_workplace_avg.index.get_level_values(0) == 2019]\n",
    "BL_workplace_2019_25th = BL_workplace_25th.loc[BL_workplace_25th.index.get_level_values(0) == 2019]\n",
    "BL_workplace_2019_75th = BL_workplace_75th.loc[BL_workplace_75th.index.get_level_values(0) == 2019]"
   ]
  },
  {
   "cell_type": "markdown",
   "id": "eccd7ed7",
   "metadata": {},
   "source": [
    "# The function to extract the EV charging session data for one day"
   ]
  },
  {
   "cell_type": "code",
   "execution_count": 6,
   "id": "2d17c284",
   "metadata": {
    "code_folding": [
     0,
     25,
     39
    ]
   },
   "outputs": [],
   "source": [
    "# Effective dates on the EV charging dataset\n",
    "# Label the working days and non-working days in 2019 in USA\n",
    "\n",
    "start = datetime(2019,1,1)\n",
    "end = datetime(2019,12,31)\n",
    "weekday_index = pd.bdate_range(start, end)\n",
    "weekday_list = weekday_index.strftime(\"%Y-%m-%d\").tolist()\n",
    "wholeyear_index = pd.date_range(start, end)\n",
    "wholeyear_list = wholeyear_index.strftime(\"%Y-%m-%d\").tolist()\n",
    "\n",
    "from pandas.tseries.holiday import USFederalHolidayCalendar\n",
    "cal = USFederalHolidayCalendar()\n",
    "holiday_index = cal.holidays(start = \"2019-01-01\", end = \"2019-12-31\")\n",
    "holiday_list = holiday_index.strftime(\"%Y-%m-%d\").tolist() \n",
    "\n",
    "wd_list = [i for i in weekday_list if i not in holiday_list]\n",
    "nwd_list = [i for i in wholeyear_list if i not in wd_list]\n",
    "\n",
    "No_data_wd = [\"2019-12-05\",\"2019-12-06\",\"2019-12-09\",\"2019-12-10\",\"2019-12-31\"]\n",
    "wd_list_effective = [i for i in wd_list if i not in No_data_wd]\n",
    "wd_list_effective.append(\"2019-10-14\")\n",
    "wd_list_effective.append(\"2019-11-11\")\n",
    "\n",
    "# 2019-10-14，2019-11-11大功率\n",
    "# 2019-01-19，2019-05-27，2019-10-20负数\n",
    "No_data_nwd = [\"2019-01-19\",\"2019-01-20\",\n",
    "               \"2019-02-16\",\n",
    "               \"2019-04-14\",\"2019-04-28\",\n",
    "               \"2019-05-25\",\"2019-05-27\",\n",
    "               \"2019-08-17\",\n",
    "               \"2019-10-20\",\n",
    "               \"2019-11-28\",\"2019-11-30\",\n",
    "               \"2019-12-07\",\"2019-12-08\",\"2019-12-22\",\"2019-12-25\"]\n",
    "\n",
    "nwd_list_effective = [i for i in nwd_list if i not in No_data_nwd]\n",
    "nwd_list_effective = [i for i in nwd_list_effective if i not in [\"2019-10-14\",\"2019-11-11\"]]\n",
    "\n",
    "date_linear = [\"2019-01-01\",\"2019-03-03\",\"2019-08-31\",\"2019-09-01\",\"2019-12-26\"]\n",
    "\n",
    "# 点太少了，无法拟合出合适的函数，当作异常点处理:\"2019-01-01\"，\"2019-03-03\"\n",
    "# 真的完全服从一条直线，指数函数无法拟合：\"2019-12-26\"，\"2019-08-31\"，\"2019-09-01\"\n",
    "# 服从指数函数的点：\"2019-01-27\",\"2019-02-02\",\"2019-02-18\",\"2019-07-04\",\"2019-07-05\",\"2019-08-10\",\"2019-08-18\",\"2019-09-08\"，\n",
    "# \"2019-10-06\"，\"2019-11-24\",\"2019-11-29\"\n",
    "\n",
    "wholeyear_effective = [i for i in wholeyear_list if i not in No_data_nwd]\n",
    "wholeyear_effective = [i for i in wholeyear_effective if i not in No_data_wd]\n",
    "# len(wholeyear_effective)"
   ]
  },
  {
   "cell_type": "code",
   "execution_count": 7,
   "id": "1523442e",
   "metadata": {
    "code_folding": [
     1
    ]
   },
   "outputs": [],
   "source": [
    "# sample one day EV charging data of the workplace from the annual dataset\n",
    "def sample_EVC_workplace_oneday(EVC_workplace,random_seed):\n",
    "    \"\"\"\n",
    "    EVC_workplace: EV charging data in the workplace for the whole year,df\n",
    "    random_seed: the value of the random seed for np.random.seed, float\n",
    "    \"\"\"\n",
    "    # EV充电数据含有的日子\n",
    "    Date_EVC_workplace = (EVC_workplace\n",
    "                          [\"connect_date\"]\n",
    "                          .unique()\n",
    "                          .tolist())\n",
    "    \n",
    "    # EV充电数据含有的工作日、非工作日\n",
    "    # Date_EVC_workplace_nwd = [i for i in Date_EVC_workplace if i in nwd_list_effective]\n",
    "    Date_EVC_workplace_wd = [i for i in Date_EVC_workplace if i in wd_list_effective]\n",
    "\n",
    "    # 随机抽取日期序列，并赋予日期到各个节点中\n",
    "    np.random.seed(random_seed) # 1 30 40 \n",
    "    Date_EVC_workplace = np.random.choice(Date_EVC_workplace_wd)\n",
    "    EVC_workplace = EVC_workplace.query(\"connect_date == @Date_EVC_workplace\").copy().reset_index(drop=True)\n",
    "    # EVC_workplace.to_csv(\"./result/EVC/EVC_workplace.csv\")\n",
    "    # EVC_public.to_csv(\"./result/EVC/EVC_public.csv\")\n",
    "    \n",
    "    return EVC_workplace "
   ]
  },
  {
   "cell_type": "markdown",
   "id": "ce5a7422",
   "metadata": {},
   "source": [
    "#  Load flow analysis to calculate the load limit under the constraints on voltage deviation, transformer capacity, and electrical line transmission capacity"
   ]
  },
  {
   "cell_type": "code",
   "execution_count": 11,
   "id": "98559705",
   "metadata": {
    "code_folding": [
     1
    ]
   },
   "outputs": [],
   "source": [
    "# build the grid network model in pandapower\n",
    "def network_3bus_1tr(p,q,transfo_capacity):\n",
    "    \"\"\"\n",
    "    # the network looks like:\n",
    "    # ext_grid b1 ---- b2 trafo(10/0.4kV) b3 load\n",
    "\n",
    "    p: the active power demand, MW, float\n",
    "    q: the reactive power demand, MVar, float\n",
    "    trafo_capacity: the sn_mva of the transformer, float\n",
    "    \"\"\" \n",
    "    #create empty net\n",
    "    net = pp.create_empty_network()\n",
    "\n",
    "    #create buses\n",
    "    b1 = pp.create_bus(net, vn_kv=10, name=\"Bus_0\")\n",
    "    b2 = pp.create_bus(net, vn_kv=10, name=\"Bus_1\")\n",
    "    b3 = pp.create_bus(net, vn_kv=0.4, name=\"Bus_2\")\n",
    "\n",
    "    #create bus elements\n",
    "    pp.create_ext_grid(net, bus=b1, name=\"Grid Connection\")\n",
    "    pp.create_load(net, bus=b3, p_mw=p, q_mvar=q, name='load')\n",
    "\n",
    "    #create branch elements\n",
    "    pp.create_line(net,from_bus=b1,to_bus=b2,length_km=0.1,std_type='94-AL1/15-ST1A 10.0',name='line_01')\n",
    "    if transfo_capacity == 0.63:\n",
    "        pp.create_transformer(net,hv_bus=b2,lv_bus=b3,name='trafo_12',std_type='0.63 MVA 10/0.4 kV')\n",
    "    if transfo_capacity == 0.50:\n",
    "        pp.create_transformer_from_parameters(net,hv_bus=b2,lv_bus=b3,sn_mva=transfo_capacity,vn_hv_kv=10,vn_lv_kv=0.4,\n",
    "                                              vk_percent=4.0, vkr_percent=1.2, pfe_kw=1, i0_percent=0.21, shift_degree=150, name='trafo_12')\n",
    "    if transfo_capacity == 1.25:\n",
    "        pp.create_transformer_from_parameters(net,hv_bus=b2,lv_bus=b3,sn_mva=transfo_capacity,vn_hv_kv=10,vn_lv_kv=0.4,\n",
    "                                              vk_percent=4.0, vkr_percent=0.9, pfe_kw=1.7, i0_percent=0.14, shift_degree=150, name='trafo_12')\n",
    "    if transfo_capacity == 1.60:\n",
    "        pp.create_transformer_from_parameters(net,hv_bus=b2,lv_bus=b3,sn_mva=transfo_capacity,vn_hv_kv=10,vn_lv_kv=0.4,\n",
    "                                              vk_percent=4.0, vkr_percent=0.9, pfe_kw=1.8, i0_percent=0.12, shift_degree=150, name='trafo_12')\n",
    "    if transfo_capacity == 2.00:\n",
    "        pp.create_transformer_from_parameters(net,hv_bus=b2,lv_bus=b3,sn_mva=transfo_capacity,vn_hv_kv=10,vn_lv_kv=0.4,\n",
    "                                              vk_percent=4.0, vkr_percent=0.9, pfe_kw=1.9, i0_percent=0.10, shift_degree=150, name='trafo_12')\n",
    "\n",
    "    return net"
   ]
  },
  {
   "cell_type": "code",
   "execution_count": 12,
   "id": "7bd3b629",
   "metadata": {
    "code_folding": [
     1
    ]
   },
   "outputs": [],
   "source": [
    "# Obtain the maximum loading of the bus under the constraint on the voltage deviation, transformer loading and line loading. \n",
    "def func_p_site_max(transfo_capacity,q):\n",
    "    \"\"\"\n",
    "    transfo_capacity: the sn_mva of the transformer, MVA. workplace: 1.25、1.60, public: 0.5、0.63\n",
    "    q: the reactive load in the bus, MVar\n",
    "    \"\"\"\n",
    "    # section 1: the hyperparameters of obtaining the maximum loading of each bus\n",
    "\n",
    "    # maximum and minimum bus voltage magnitude unit\n",
    "    v_maxpu = 1.05\n",
    "    v_minpu = 0.95\n",
    "    # the maximum percentage of the transformer loading\n",
    "    trafo_loading_max = 100\n",
    "    # the maximum percentage of the line loading\n",
    "    line_loading_max = 100\n",
    "\n",
    "    # section 2: conduct calculation\n",
    "\n",
    "    # the number of charging sites\n",
    "    num_site = 1\n",
    "    # the number of bus\n",
    "    num_bus = 3\n",
    "    # the number of trafo\n",
    "    num_trafo = 1\n",
    "    # the number of line\n",
    "    num_line = 1\n",
    "    # Initialize the maximum loading of the bus\n",
    "    p_site_max = [0 for i in range(num_site)]\n",
    "    # Assume to enumerate the load by a step of 1e-2 from 0 to 6 mW\n",
    "    p_values = np.arange(0,6,1e-2)\n",
    "    for p in p_values: # 模拟每节点的load (mW)\n",
    "        # run load flow analysis\n",
    "        net = network_3bus_1tr(p,q,transfo_capacity)\n",
    "        pp.runpp(net)\n",
    "\n",
    "        # the voltage deviation of each bus\n",
    "        v_pu = [net.res_bus.loc[i,'vm_pu'] for i in range(num_bus)]\n",
    "        # the transformer loading(%)\n",
    "        trafo_loading = [net.res_trafo.loc[i,'loading_percent'] for i in range(num_trafo)]\n",
    "        # the line loading (%)\n",
    "        line_loading = [net.res_line.loc[i,'loading_percent'] for i in range(num_line)]\n",
    "\n",
    "        # A flag to indicate if any bus has the voltage deviation bigger than the limit. \n",
    "        # If yes, return True, the loop breaks; if no, return False, the loop continues.\n",
    "        # the same for the transformer loading and line loading\n",
    "        flag_v_pu = any(x < v_minpu or x > v_maxpu for x in v_pu)\n",
    "        flag_trafo_loading = any(x > trafo_loading_max for x in trafo_loading)\n",
    "        flag_line_loading = any(x > line_loading_max for x in line_loading)\n",
    "\n",
    "        # If any flag is true, save the maximum power load for each bus then breaks the loop\n",
    "        if any((flag_v_pu,flag_trafo_loading,flag_line_loading)):\n",
    "            for i in range(num_site):\n",
    "                p_site_max[i] = p\n",
    "            break\n",
    "    \n",
    "    return p_site_max"
   ]
  },
  {
   "cell_type": "code",
   "execution_count": 13,
   "id": "201d0825",
   "metadata": {
    "code_folding": [
     0
    ]
   },
   "outputs": [],
   "source": [
    "# Conduct load flow analysis\n",
    "%%capture\n",
    "p_site_max_w1600 = func_p_site_max(transfo_capacity = 1.60,q = 0.10) # power factor was set to 0.9"
   ]
  },
  {
   "cell_type": "markdown",
   "id": "054e665f",
   "metadata": {},
   "source": [
    "# Functions to conduct online optimization of charging coordination under the computed load limit"
   ]
  },
  {
   "cell_type": "code",
   "execution_count": 8,
   "id": "ee31e713",
   "metadata": {
    "code_folding": [
     1,
     27
    ]
   },
   "outputs": [],
   "source": [
    "# Optimization model 1：Obtain the upper bound of the load variance\n",
    "def opt_model_ub(time,ce,p_max,delta_t,p_site_max,\n",
    "                 site,d_t,EV_index,E,t_plugin,t_plugout,D_t,loadvar_ub):\n",
    "    # Create optimization model\n",
    "    m_ub = gp.Model('EVcharging_ub')\n",
    "\n",
    "    # Create variables\n",
    "    # 将字典EV转化为a list of tuple，第一位表示site,第二位表示EV的序号\n",
    "    import itertools\n",
    "    EV_list = [(k, v) for k, values in EV_index.items() for v in values]\n",
    "    p_tbi = m_ub.addVars(time, EV_list, name=\"power\") # time行 * num_EV列 * site列的矩阵\n",
    "    p_t = gp.tuplelist([p_tbi.sum(t,\"*\",\"*\") for t in time]) # 一个时刻所有site的所有EV的充电功率之和，time*1的向量\n",
    "    p_bt = gp.tuplelist([[p_tbi.sum(t, site[0],\"*\") for t in time]])# 一个时刻一个site的所有EV充电功率之和（对EV求和），site*time的矩阵                \n",
    "    p_tb = gp.tuplelist(list(map(list,zip(*p_bt)))) # 通过转置，变为time*site的矩阵\n",
    "    p_bi = gp.tuplelist([[p_tbi.sum(\"*\",site[0], i) for i in EV_index[site[0]]]])# 每个site的每辆EV的充电功率之和(对时间求和)\n",
    "\n",
    "    # Set objective\n",
    "    m_ub.setObjective (sum(np.multiply(p_t,MEF)) * delta_t / ce, GRB.MINIMIZE) # the output is g CO2 emissions after coordination\n",
    "\n",
    "    # Add constraints\n",
    "    for t in time:\n",
    "        m_ub.addConstrs(\n",
    "            (p_tbi[t,s,i] >= 0 for s in site for i in EV_index[s]),name=\"charging_power1\")\n",
    "        m_ub.addConstrs(\n",
    "            (p_tbi[t,s,i] <= p_max for s in site for i in EV_index[s]),name=\"charging_power2\")\n",
    "        m_ub.addConstrs(\n",
    "            (p_tb[t][s]/1_000 + d_t[s][t]/1_000 <= p_site_max[s] for s in site), name=\"site_max_loading\")\n",
    "    for s in site:\n",
    "        for i in EV_index[s]:\n",
    "            if t_plugin[s][i] < t_plugout[s][i]:\n",
    "                if t_plugin[s][i] !=0 and t_plugin[s][i] != len(time)-1:\n",
    "                    m_ub.addConstrs(\n",
    "                        (p_tbi[t,s,i] == 0 for t in range(0,int(t_plugin[s][i]))),\"charging_power_time1\")\n",
    "                    m_ub.addConstrs(\n",
    "                        (p_tbi[t,s,i] == 0 for t in range(int(t_plugout[s][i])+1,len(time))),\"charging_power_time2\")\n",
    "                elif t_plugin[s][i] == 0:\n",
    "                    m_ub.addConstrs(\n",
    "                        (p_tbi[t,s,i] == 0 for t in range(int(t_plugout[s][i])+1,len(time))),\"charging_power_time1\")\n",
    "                else:\n",
    "                    m_ub.addConstrs(\n",
    "                        (p_tbi[t,s,i] == 0 for t in range(0,int(t_plugin[s][i]))),\"charging_power_time1\")\n",
    "            else:\n",
    "                if abs(t_plugin[s][i]-t_plugout[s][i])>1:\n",
    "                    m_ub.addConstrs(\n",
    "                        (p_tbi[t,s,i] == 0 for t in range(int(t_plugout[s][i])+1,int(t_plugin[s][i]))),\"charging_power_time1\")\n",
    "    m_ub.addConstrs(\n",
    "        (ce * delta_t * p_bi[s][i] >= E[s][i] for s in site for i in EV_index[s]),\"energy_demand\")\n",
    "\n",
    "    # Conduct optimization\n",
    "#     m_ub.params.NonConvex = 1 # Quadratic equality constraints are non-convex. Set NonConvex parameter to 2 to solve model.\n",
    "    m_ub.Params.MIPGap = 0.01    # termination criteria: 1%\n",
    "    m_ub.Params.TimeLimit = 360  # termination criteria: 6 minutes\n",
    "#     m_ub.Params.BarHomogeneous = 0 # turn off the homogeneous barrier algorithm\n",
    "#     m_ub.Params.Method = -1 # automatic method = barrier\n",
    "    m_ub.update()\n",
    "    m_ub.optimize()\n",
    "    if m_ub.status == GRB.OPTIMAL:\n",
    "        solution_p_ub = m_ub.getAttr('x', p_tbi)\n",
    "        loadvar_ub_value = sum((a + b) ** 2 for a, b in zip(D_t, [solution_p_ub.sum(t, '*','*').getValue() for t in time]))\n",
    "        loadvar_ub.append(loadvar_ub_value)\n",
    "    \n",
    "    return m_ub.status"
   ]
  },
  {
   "cell_type": "code",
   "execution_count": 9,
   "id": "45ba7ba1",
   "metadata": {
    "code_folding": [
     1,
     28
    ]
   },
   "outputs": [],
   "source": [
    "# Optimization model 2：Optimize under the constraint on the load varaince\n",
    "def opt_model(time,ce,p_max,delta_t,p_site_max,Em_uc,loadvar_uc,total_energy,satisfied_energy_uc,\n",
    "              site,d_t,EV_index,E,t_plugin,t_plugout,D_t,\n",
    "              loadvar_ub,obj_result,var_result,random_seed):\n",
    "    # Create optimization model\n",
    "    m = gp.Model('EVcharging')\n",
    "\n",
    "    # Create variables\n",
    "    # 将字典EV转化为a list of tuple，第一位表示site,第二位表示EV的序号\n",
    "    import itertools\n",
    "    EV_list = [(k, v) for k, values in EV_index.items() for v in values]\n",
    "    p_tbi = m.addVars(time, EV_list, name=\"power\") # time行 * num_EV列 * site列的矩阵\n",
    "    p_t = gp.tuplelist([p_tbi.sum(t,\"*\",\"*\") for t in time]) # 一个时刻所有site的所有EV的充电功率之和，time*1的向量\n",
    "    p_bt = gp.tuplelist([[p_tbi.sum(t, site[0],\"*\") for t in time]])# 一个时刻一个site的所有EV充电功率之和（对EV求和），site*time的矩阵                \n",
    "    p_tb = gp.tuplelist(list(map(list,zip(*p_bt)))) # 通过转置，变为time*site的矩阵\n",
    "    p_bi = gp.tuplelist([[p_tbi.sum(\"*\",site[0], i) for i in EV_index[site[0]]]])# 每个site的每辆EV的充电功率之和(对时间求和)\n",
    "\n",
    "    # Set objective\n",
    "    m.setObjective (sum(np.multiply(p_t,MEF)) * delta_t / ce, GRB.MINIMIZE) # the output is g CO2 emissions after coordination\n",
    "\n",
    "    # Add constraints\n",
    "    for t in time:\n",
    "        m.addConstrs(\n",
    "            (p_tbi[t,s,i] >= 0 for s in site for i in EV_index[s]),name=\"charging_power1\")\n",
    "        m.addConstrs(\n",
    "            (p_tbi[t,s,i] <= p_max for s in site for i in EV_index[s]),name=\"charging_power2\")\n",
    "        m.addConstrs(\n",
    "            (p_tb[t][s]/1_000 + d_t[s][t]/1_000 <= p_site_max[s] for s in site), name=\"site_max_loading\")\n",
    "    for s in site:\n",
    "        for i in EV_index[s]:\n",
    "            if t_plugin[s][i] < t_plugout[s][i]:\n",
    "                if t_plugin[s][i] !=0 and t_plugin[s][i] != len(time)-1:\n",
    "                    m.addConstrs(\n",
    "                        (p_tbi[t,s,i] == 0 for t in range(0,int(t_plugin[s][i]))),\"charging_power_time1\")\n",
    "                    m.addConstrs(\n",
    "                        (p_tbi[t,s,i] == 0 for t in range(int(t_plugout[s][i])+1,len(time))),\"charging_power_time2\")\n",
    "                elif t_plugin[s][i] == 0:\n",
    "                    m.addConstrs(\n",
    "                        (p_tbi[t,s,i] == 0 for t in range(int(t_plugout[s][i])+1,len(time))),\"charging_power_time1\")\n",
    "                else:\n",
    "                    m.addConstrs(\n",
    "                        (p_tbi[t,s,i] == 0 for t in range(0,int(t_plugin[s][i]))),\"charging_power_time1\")\n",
    "            else:\n",
    "                if abs(t_plugin[s][i]-t_plugout[s][i])>1:\n",
    "                    m.addConstrs(\n",
    "                        (p_tbi[t,s,i] == 0 for t in range(int(t_plugout[s][i])+1,int(t_plugin[s][i]))),\"charging_power_time1\")\n",
    "    m.addConstrs(\n",
    "        (ce * delta_t * p_bi[s][i] >= E[s][i] for s in site for i in EV_index[s]),\"energy_demand\")\n",
    "    m.addConstr(\n",
    "        (sum((a + b) ** 2 for a, b in zip(D_t, [p_tbi.sum(t,\"*\",\"*\") for t in time])) <= loadvar_ub),name=\"load_variance\")\n",
    "\n",
    "    # Conduct optimization\n",
    "#     m.params.NonConvex = 1 # Quadratic equality constraints are non-convex. Set NonConvex parameter to 2 to solve model.\n",
    "    m.Params.MIPGap = 0.01    # termination criteria: 1%\n",
    "    m.Params.TimeLimit = 360  # termination criteria: 6 minutes\n",
    "#     m.Params.BarHomogeneous = 0 # turn off the homogeneous barrier algorithm\n",
    "#     m.Params.Method = -1 # automatic method = barrier\n",
    "    m.update()\n",
    "    m.optimize()\n",
    "    if m.status == GRB.OPTIMAL:\n",
    "        solution_p = m.getAttr('x', p_tbi)\n",
    "        # save the charging power as lists\n",
    "        p_tb_cc_0 = []\n",
    "        for t in time:\n",
    "            p_tb_cc_0.append(solution_p.sum(t,0,'*').getValue())\n",
    "        p_tb_cc = [a for a in p_tb_cc_0]\n",
    "        E_cc = sum(p_tb_cc) * delta_t * ce # the delivered energy in coordinated charging\n",
    "        Em_cc = (m.objVal)/(1_000 * E_cc) # 将碳排放数据从g转换为kg/kWh\n",
    "        # obtain the reduction in load variance and emissions\n",
    "        loadvar_cc = sum((a + b) ** 2 for a, b in zip(D_t, [solution_p.sum(t, '*','*').getValue() for t in time]))\n",
    "        loadvar_reduce = ((loadvar_uc - loadvar_cc) / loadvar_uc) * 100\n",
    "        Em_reduce = ((Em_uc - Em_cc) / Em_uc) * 100\n",
    "        satisfied_energy = (E_cc / total_energy) * 100\n",
    "        # store the result        \n",
    "        obj_result.loc[random_seed,'Em_uc_kg/kWh'] = Em_uc # kg/kWh\n",
    "        obj_result.loc[random_seed,'Em_cc_kg/kWh'] = Em_cc # kg/kWh\n",
    "        obj_result.loc[random_seed,'Em_reduce_%'] = Em_reduce # %\n",
    "        obj_result.loc[random_seed,'loadvar_uc'] = loadvar_uc\n",
    "        obj_result.loc[random_seed,'loadvar_cc'] = loadvar_cc\n",
    "        obj_result.loc[random_seed,'loadvar_reduce_%'] = loadvar_reduce # %\n",
    "        obj_result.loc[random_seed,'satisfied_energy_%'] = satisfied_energy # %\n",
    "        obj_result.loc[random_seed,'satisfied_energy_uc_%'] = satisfied_energy_uc # %\n",
    "        var_result[random_seed] = p_tb_cc # kW\n",
    "\n",
    "    return m.status"
   ]
  },
  {
   "cell_type": "code",
   "execution_count": 10,
   "id": "1a8e31a3",
   "metadata": {
    "code_folding": [
     1,
     23,
     50,
     91
    ]
   },
   "outputs": [],
   "source": [
    "# Function to conduct charging coordination for the whole day\n",
    "def func_opt(d_t_site_0,EVC_site_0,p_site_max,MEF,random_seed):\n",
    "    \"\"\"\n",
    "    d_t_site_0: base load data in every 15 minutes, df\n",
    "    EVC_site_0: EV charging session data, df\n",
    "    p_site_max: the maximum loading of the bus under the constraint on the voltage deviation,transformer loading and line loading,list\n",
    "    \"\"\"\n",
    "    # section 1: base data    \n",
    "    \n",
    "    # time interval (hour)\n",
    "    delta_t = 0.25\n",
    "    \n",
    "    # number of time intervals of a day\n",
    "    num_t = int(24*1/delta_t)\n",
    "    time = [i for i in range(0,num_t)]\n",
    "\n",
    "    # EV charging efficiency\n",
    "    ce = 0.90\n",
    "\n",
    "    # charging power limit of the L2 charger(kW)\n",
    "    p_max = 14 # 10\n",
    "    \n",
    "    # coefficient of the uncoordinated EV charging load\n",
    "#     alpha = [i/10_000 for i in range(10_000,8_992,-8)]\n",
    "#     alpha = [i/10_000 for i in range(10_000,8_992,-80)]\n",
    "    # alpha = 0.93\n",
    "\n",
    "    # update the energy demand of each charging session by calculating the unit energy demand of each charging session\n",
    "    for i in EVC_site_0.index: \n",
    "        EVC_site_0.loc[i,'kWhDelivered_unit'] = EVC_site_0.loc[i,'kWhDelivered'] / (EVC_site_0.loc[i,'disconnectTime_index'] - EVC_site_0.loc[i,'connectionTime_index'] + 1)                 \n",
    "        if EVC_site_0.loc[i,\"doneChargingTime_index\"] > num_t - 1:\n",
    "            EVC_site_0.loc[i,'kWhDelivered'] = EVC_site_0.loc[i,'kWhDelivered_unit'] * (num_t - EVC_site_0.loc[i,'connectionTime_index'] + 1) \n",
    "    \n",
    "    total_energy = EVC_site_0['kWhDelivered'].sum()\n",
    "    \n",
    "    # the multidict indexed by the charging site\n",
    "    site,d_t,EV_index,E,t_plugin,t_plugout = gp.multidict({\n",
    "        0:[d_t_site_0.iloc[:,0].tolist(),\n",
    "           range(EVC_site_0.shape[0]), # the index of EVs at each bus\n",
    "           EVC_site_0['kWhDelivered'].tolist(), # the charging energy requirement of each EV at each bus, unit: kWh\n",
    "           EVC_site_0['connectionTime_index'].tolist(),# the plug-in time of EVs at each bus (index of every 15 minutes)\n",
    "           EVC_site_0['disconnectTime_index'].tolist()] # the plug-out time of EVs at each bus (index of every 15 minutes)\n",
    "    })\n",
    "\n",
    "    # total base load (kW)\n",
    "    D_t = [a for a in d_t[0]]\n",
    "    \n",
    "    # section 2: Obtain the total load(kW), load variance, and CO2 emissions(kg) in uncoordinated charging\n",
    "    \n",
    "    # Obtain the charging demand (kW) at 15-min resolution\n",
    "    def func_demand_load(EVC,num_t):\n",
    "        \"\"\"\n",
    "        this func is used to calculate the charging load of a day in every 15 minutes\n",
    "        param: \n",
    "        EVC: daily EV charging load, df\n",
    "        num_t: number of time intervals of a day\n",
    "        return:\n",
    "        demand_load: the charging demand (kW) in every 15 minutes, list\n",
    "        \"\"\"\n",
    "        # df for the total charging load in every 15 minutes(kW)\n",
    "        demand_load = pd.DataFrame(data = [0 for i in range(0,num_t)])\n",
    "        \n",
    "        # copy EVC for revise\n",
    "        df = EVC.copy()\n",
    "\n",
    "        # load的第二列赋值，即计算某日EV充电负载，利用EV_charging_data按车作循环\n",
    "        for i in df.index: # i是EV charging data的行，表示第i辆EV\n",
    "            # 获得开始和结束的充电时间\n",
    "            start_time = df.loc[i,\"connectionTime_index\"]\n",
    "            end_time = df.loc[i,\"doneChargingTime_index\"] \n",
    "            power = df.loc[i,\"charging_power\"]\n",
    "            if end_time >= num_t:\n",
    "                for j in range(int(start_time),num_t,1):\n",
    "                    demand_load.iloc[j,0] += power\n",
    "            else:\n",
    "                for j in range(int(start_time),int(end_time)+1,1):\n",
    "                    demand_load.iloc[j,0] += power\n",
    "        \n",
    "        return demand_load[0].tolist()\n",
    "    p_tb_demand = func_demand_load(EVC = EVC_site_0,num_t = num_t)\n",
    "    p_tb_uc = [] # set up a list to store the power demand (kW) of uncoordinated charging at every 15-min\n",
    "    for t in time:\n",
    "        if p_tb_demand[t] + D_t[t] > p_site_max[0] * 1_000:\n",
    "            p_tb_uc.append(p_site_max[0] * 1_000 - D_t[t])\n",
    "        else:\n",
    "            p_tb_uc.append(p_tb_demand[t])\n",
    "    loadvar_uc = sum((a+b)**2 for a, b in zip(D_t,p_tb_uc))\n",
    "    # calculate the energy demand fulfillment of uncoordinated charging\n",
    "    satisfied_energy_uc = (sum(p_tb_uc) / sum(p_tb_demand)) * 100 # %  \n",
    "    \n",
    "    # Obtain the total CO2 emissions in uncooridinated charging\n",
    "    def func_em(MEF_data,EV_charging_load,ce):\n",
    "            \"\"\"\n",
    "            This function compute the CO2 emissions in uncoordinated charging    \n",
    "            param \n",
    "            MEF_data: the MEF (g CO2/kWh) in every 15 mins of a day,list\n",
    "            EV_charging_load: EV charging load (kW) before coordination in every 15 mins of a day, list\n",
    "            ce: charging efficiency (%)\n",
    "            return\n",
    "            ucem: the total CO2 emissions in uncoordianted charging，array，unit: kg\n",
    "            \"\"\"\n",
    "            # 利用两个向量内积，计算总排放量，充电效率设为0.85。时间由15分钟转换为小时，即乘以0.25\n",
    "            ucem = (np.dot([0.25 * x for x in EV_charging_load],MEF_data)/ce)/1_000 # 将碳排放数据从g转换为kg\n",
    "\n",
    "            return ucem\n",
    "    Em_uc = func_em(MEF_data = MEF, EV_charging_load = p_tb_uc, ce = ce)/(sum(p_tb_uc) * delta_t * ce) # kg/kWh\n",
    "                \n",
    "    # Section 3: conduct charging coordination under the constraint of p_site_max\n",
    "    \n",
    "    # create two dfs to store the results\n",
    "    # obj_result is for Em_uc,Em_cc,Em_reduce,loadvar_uc,loadvar_cc,loadvar_reduce, indexes are the series of alpha\n",
    "    # var_result is for p_tb_cc. Columns are the indexes of random seeds, and indexes are the timeslots\n",
    "    obj_result = pd.DataFrame(index = [random_seed], columns = ['Em_uc_kg/kWh','Em_cc_kg/kWh','Em_reduce_%','loadvar_uc','loadvar_cc','loadvar_reduce_%','satisfied_energy_%','satisfied_energy_uc_%'])\n",
    "    var_result = pd.DataFrame(index = time, columns = [random_seed])\n",
    "    \n",
    "    # obtain the upper bound(largest) of the load variance\n",
    "    loadvar_ub = []\n",
    "    state_ub = opt_model_ub(time,ce,p_max,delta_t,p_site_max,site,d_t,EV_index,E,t_plugin,t_plugout,D_t,loadvar_ub)\n",
    "    \n",
    "    # derive the pareto front with different values on alpha. Break until the model is infeasible\n",
    "    if state_ub == GRB.OPTIMAL:\n",
    "        opt_model(time,ce,p_max,delta_t,p_site_max,Em_uc,loadvar_uc,total_energy,satisfied_energy_uc,\n",
    "                  site,d_t,EV_index,E,t_plugin,t_plugout,D_t,\n",
    "                  loadvar_ub[0],obj_result,var_result,random_seed)\n",
    "                \n",
    "    return obj_result,var_result"
   ]
  },
  {
   "cell_type": "markdown",
   "id": "9f6c1252",
   "metadata": {},
   "source": [
    "# Conduct the functions and output the result"
   ]
  },
  {
   "cell_type": "code",
   "execution_count": 17,
   "id": "533f0ca1",
   "metadata": {
    "code_folding": []
   },
   "outputs": [],
   "source": [
    "# Define the DataFrames to store the outputs for the level 1 of annual existing electrical load\n",
    "\n",
    "# For pareto front\n",
    "df_pareto_w1600_50_25th = pd.DataFrame(index = range(40,70),columns = ['Em_uc_kg/kWh','Em_cc_kg/kWh','Em_reduce_%','loadvar_uc','loadvar_cc','loadvar_reduce_%','satisfied_energy_%','satisfied_energy_uc_%'])\n",
    "\n",
    "# For the charging load of coordinated charging\n",
    "df_p_tb_cc_w1600_50_25th = pd.DataFrame(index = range(0,96),columns = [i for i in range(40,70)])"
   ]
  },
  {
   "cell_type": "code",
   "execution_count": null,
   "id": "8bb7a610",
   "metadata": {},
   "outputs": [],
   "source": [
    "# Conduct the simulation for 30-days\n",
    "%%capture\n",
    "for i in range(40,70):\n",
    "    EVC_workplace_50 = sample_EVC_workplace_oneday(EVC_workplace_annual_50, random_seed = i)\n",
    "    pareto_w1600_50, p_tb_cc_w1600_50 = func_opt(d_t_site_0 = BL_workplace_2019_25th, EVC_site_0 = EVC_workplace_50,\n",
    "                                                 p_site_max = p_site_max_w1600, MEF = MEF, random_seed = i)\n",
    "    df_pareto_w1600_50_25th.loc[i,:] = pareto_w1600_50.loc[i,:]\n",
    "    df_p_tb_cc_w1600_50_25th[i] = p_tb_cc_w1600_50"
   ]
  },
  {
   "cell_type": "code",
   "execution_count": 21,
   "id": "2713c6bb",
   "metadata": {
    "code_folding": []
   },
   "outputs": [],
   "source": [
    "# Output the result\n",
    "df_pareto_w1600_50_25th.to_csv(\"./result/pareto_ofcc/workplace/1600KVA/pareto_w1600_50_week_25th.csv\")\n",
    "df_p_tb_cc_w1600_50_25th.to_csv(\"./result/EV_charging_load_ofcc/workplace/1600KVA/p_tb_cc_w1600_50_week_25th.csv\")"
   ]
  },
  {
   "cell_type": "code",
   "execution_count": 18,
   "id": "52cf296e",
   "metadata": {
    "code_folding": []
   },
   "outputs": [],
   "source": [
    "# Define the DataFrames to store the outputs for the level 2 of annual existing electrical load\n",
    "\n",
    "# For pareto front\n",
    "df_pareto_w1600_50 = pd.DataFrame(index = range(40,70),columns = ['Em_uc_kg/kWh','Em_cc_kg/kWh','Em_reduce_%','loadvar_uc','loadvar_cc','loadvar_reduce_%','satisfied_energy_%','satisfied_energy_uc_%'])\n",
    "\n",
    "# For the charging load of coordinated charging\n",
    "df_p_tb_cc_w1600_50 = pd.DataFrame(index = range(0,96),columns = [i for i in range(40,70)])"
   ]
  },
  {
   "cell_type": "code",
   "execution_count": null,
   "id": "b3105d58",
   "metadata": {},
   "outputs": [],
   "source": [
    "# Conduct the simulation for 30-days\n",
    "%%capture\n",
    "for i in range(40,70):\n",
    "    EVC_workplace_50 = sample_EVC_workplace_oneday(EVC_workplace_annual_50, random_seed = i)\n",
    "    pareto_w1600_50, p_tb_cc_w1600_50 = func_opt(d_t_site_0 = BL_workplace_2019_avg, EVC_site_0 = EVC_workplace_50,\n",
    "                                                 p_site_max = p_site_max_w1600, MEF = MEF, random_seed = i)\n",
    "    df_pareto_w1600_50.loc[i,:] = pareto_w1600_50.loc[i,:]\n",
    "    df_p_tb_cc_w1600_50[i] = p_tb_cc_w1600_50"
   ]
  },
  {
   "cell_type": "code",
   "execution_count": 22,
   "id": "e99a475b",
   "metadata": {
    "code_folding": []
   },
   "outputs": [],
   "source": [
    "# Output the result\n",
    "df_pareto_w1600_50.to_csv(\"./result/pareto_ofcc/workplace/1600KVA/pareto_w1600_50_week.csv\")\n",
    "df_p_tb_cc_w1600_50.to_csv(\"./result/EV_charging_load_ofcc/workplace/1600KVA/p_tb_cc_w1600_50_week.csv\")"
   ]
  },
  {
   "cell_type": "code",
   "execution_count": 77,
   "id": "95d3e933",
   "metadata": {
    "code_folding": []
   },
   "outputs": [],
   "source": [
    "# Define the DataFrames to store the outputs for the level 3 of annual existing electrical load\n",
    "\n",
    "# For pareto front\n",
    "df_pareto_w1600_50_75th = pd.DataFrame(index = range(40,70),columns = ['Em_uc_kg/kWh','Em_cc_kg/kWh','Em_reduce_%','loadvar_uc','loadvar_cc','loadvar_reduce_%','satisfied_energy_%','satisfied_energy_uc_%'])\n",
    "\n",
    "# For the charging load of coordinated charging\n",
    "df_p_tb_cc_w1600_50_75th = pd.DataFrame(index = range(0,96),columns = [i for i in range(40,70)])"
   ]
  },
  {
   "cell_type": "code",
   "execution_count": null,
   "id": "ac6d024e",
   "metadata": {},
   "outputs": [],
   "source": [
    "# Conduct the simulation for 30-days\n",
    "%%capture\n",
    "for i in range(40,70):\n",
    "    EVC_workplace_50 = sample_EVC_workplace_oneday(EVC_workplace_annual_50, random_seed = i)\n",
    "    pareto_w1600_50, p_tb_cc_w1600_50 = func_opt(d_t_site_0 = BL_workplace_2019_75th, EVC_site_0 = EVC_workplace_50,\n",
    "                                                 p_site_max = p_site_max_w1600, MEF = MEF, random_seed = i)\n",
    "    df_pareto_w1600_50_75th.loc[i,:] = pareto_w1600_50.loc[i,:]\n",
    "    df_p_tb_cc_w1600_50_75th[i] = p_tb_cc_w1600_50"
   ]
  },
  {
   "cell_type": "code",
   "execution_count": 81,
   "id": "9d326589",
   "metadata": {
    "code_folding": []
   },
   "outputs": [],
   "source": [
    "# Output the result\n",
    "df_pareto_w1600_50_75th.to_csv(\"./result/pareto_ofcc/workplace/1600KVA/pareto_w1600_50_week_75th.csv\")\n",
    "df_p_tb_cc_w1600_50_75th.to_csv(\"./result/EV_charging_load_ofcc/workplace/1600KVA/p_tb_cc_w1600_50_week_75th.csv\")"
   ]
  }
 ],
 "metadata": {
  "hide_input": false,
  "kernelspec": {
   "display_name": "Python 3 (ipykernel)",
   "language": "python",
   "name": "python3"
  },
  "language_info": {
   "codemirror_mode": {
    "name": "ipython",
    "version": 3
   },
   "file_extension": ".py",
   "mimetype": "text/x-python",
   "name": "python",
   "nbconvert_exporter": "python",
   "pygments_lexer": "ipython3",
   "version": "3.11.3"
  },
  "toc": {
   "base_numbering": 1,
   "nav_menu": {},
   "number_sections": true,
   "sideBar": true,
   "skip_h1_title": false,
   "title_cell": "Table of Contents",
   "title_sidebar": "Contents",
   "toc_cell": false,
   "toc_position": {
    "height": "calc(100% - 180px)",
    "left": "10px",
    "top": "150px",
    "width": "232.75px"
   },
   "toc_section_display": true,
   "toc_window_display": false
  },
  "varInspector": {
   "cols": {
    "lenName": 16,
    "lenType": 16,
    "lenVar": 40
   },
   "kernels_config": {
    "python": {
     "delete_cmd_postfix": "",
     "delete_cmd_prefix": "del ",
     "library": "var_list.py",
     "varRefreshCmd": "print(var_dic_list())"
    },
    "r": {
     "delete_cmd_postfix": ") ",
     "delete_cmd_prefix": "rm(",
     "library": "var_list.r",
     "varRefreshCmd": "cat(var_dic_list()) "
    }
   },
   "types_to_exclude": [
    "module",
    "function",
    "builtin_function_or_method",
    "instance",
    "_Feature"
   ],
   "window_display": false
  }
 },
 "nbformat": 4,
 "nbformat_minor": 5
}
