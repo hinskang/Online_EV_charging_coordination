{
 "cells": [
  {
   "cell_type": "code",
   "execution_count": 1,
   "id": "cac9ab12",
   "metadata": {},
   "outputs": [],
   "source": [
    "import pandas as pd\n",
    "import numpy as np\n",
    "import matplotlib.pyplot as plt\n",
    "from datetime import datetime"
   ]
  },
  {
   "cell_type": "code",
   "execution_count": 2,
   "id": "36a64f50",
   "metadata": {
    "code_folding": [
     0,
     25,
     39
    ]
   },
   "outputs": [],
   "source": [
    "# Effective dates on the EV charging dataset\n",
    "# Label the working days and non-working days in 2019 in USA\n",
    "\n",
    "start = datetime(2019,1,1)\n",
    "end = datetime(2019,12,31)\n",
    "weekday_index = pd.bdate_range(start, end)\n",
    "weekday_list = weekday_index.strftime(\"%Y-%m-%d\").tolist()\n",
    "wholeyear_index = pd.date_range(start, end)\n",
    "wholeyear_list = wholeyear_index.strftime(\"%Y-%m-%d\").tolist()\n",
    "\n",
    "from pandas.tseries.holiday import USFederalHolidayCalendar\n",
    "cal = USFederalHolidayCalendar()\n",
    "holiday_index = cal.holidays(start = \"2019-01-01\", end = \"2019-12-31\")\n",
    "holiday_list = holiday_index.strftime(\"%Y-%m-%d\").tolist() \n",
    "\n",
    "wd_list = [i for i in weekday_list if i not in holiday_list]\n",
    "nwd_list = [i for i in wholeyear_list if i not in wd_list]\n",
    "\n",
    "No_data_wd = [\"2019-12-05\",\"2019-12-06\",\"2019-12-09\",\"2019-12-10\",\"2019-12-31\"]\n",
    "wd_list_effective = [i for i in wd_list if i not in No_data_wd]\n",
    "wd_list_effective.append(\"2019-10-14\")\n",
    "wd_list_effective.append(\"2019-11-11\")\n",
    "\n",
    "# 2019-10-14，2019-11-11大功率\n",
    "# 2019-01-19，2019-05-27，2019-10-20负数\n",
    "No_data_nwd = [\"2019-01-19\",\"2019-01-20\",\n",
    "               \"2019-02-16\",\n",
    "               \"2019-04-14\",\"2019-04-28\",\n",
    "               \"2019-05-25\",\"2019-05-27\",\n",
    "               \"2019-08-17\",\n",
    "               \"2019-10-20\",\n",
    "               \"2019-11-28\",\"2019-11-30\",\n",
    "               \"2019-12-07\",\"2019-12-08\",\"2019-12-22\",\"2019-12-25\"]\n",
    "\n",
    "nwd_list_effective = [i for i in nwd_list if i not in No_data_nwd]\n",
    "nwd_list_effective = [i for i in nwd_list_effective if i not in [\"2019-10-14\",\"2019-11-11\"]]\n",
    "\n",
    "date_linear = [\"2019-01-01\",\"2019-03-03\",\"2019-08-31\",\"2019-09-01\",\"2019-12-26\"]\n",
    "\n",
    "# 点太少了，无法拟合出合适的函数，当作异常点处理:\"2019-01-01\"，\"2019-03-03\"\n",
    "# 真的完全服从一条直线，指数函数无法拟合：\"2019-12-26\"，\"2019-08-31\"，\"2019-09-01\"\n",
    "# 服从指数函数的点：\"2019-01-27\",\"2019-02-02\",\"2019-02-18\",\"2019-07-04\",\"2019-07-05\",\"2019-08-10\",\"2019-08-18\",\"2019-09-08\"，\n",
    "# \"2019-10-06\"，\"2019-11-24\",\"2019-11-29\"\n",
    "\n",
    "wholeyear_effective = [i for i in wholeyear_list if i not in No_data_nwd]\n",
    "wholeyear_effective = [i for i in wholeyear_effective if i not in No_data_wd]\n",
    "# len(wholeyear_effective)"
   ]
  },
  {
   "cell_type": "code",
   "execution_count": 8,
   "id": "d8f8f092",
   "metadata": {},
   "outputs": [
    {
     "data": {
      "text/plain": [
       "248"
      ]
     },
     "execution_count": 8,
     "metadata": {},
     "output_type": "execute_result"
    }
   ],
   "source": [
    "len(wd_list_effective)"
   ]
  },
  {
   "cell_type": "code",
   "execution_count": 77,
   "id": "9c134fa7",
   "metadata": {},
   "outputs": [
    {
     "data": {
      "text/plain": [
       "5"
      ]
     },
     "execution_count": 77,
     "metadata": {},
     "output_type": "execute_result"
    }
   ],
   "source": [
    "holiday_effective = [i for i in nwd_list_effective if i in holiday_list]\n",
    "len(holiday_effective)"
   ]
  },
  {
   "cell_type": "code",
   "execution_count": 78,
   "id": "2778bcb6",
   "metadata": {},
   "outputs": [
    {
     "data": {
      "text/plain": [
       "92"
      ]
     },
     "execution_count": 78,
     "metadata": {},
     "output_type": "execute_result"
    }
   ],
   "source": [
    "weekend_list_effective = [i for i in nwd_list_effective if i not in holiday_list]\n",
    "len(weekend_list_effective)"
   ]
  },
  {
   "cell_type": "code",
   "execution_count": 31,
   "id": "85c53233",
   "metadata": {
    "code_folding": [
     1
    ]
   },
   "outputs": [],
   "source": [
    "# output the numbers of the weekdays, weekends, and holidays for the experimental dates and its 7-day historical dates\n",
    "def stats_dates(EVC_workplace,num_charger):\n",
    "    \"\"\"\n",
    "    EVC_workplace: EV charging data in the workplace for the whole year,df\n",
    "    random_seed: the value of the random seed for np.random.seed, float\n",
    "    \"\"\"\n",
    "    # EV充电数据含有的日子\n",
    "    Dates = (EVC_workplace[\"connect_date\"].unique().tolist())\n",
    "    Dates_wd = [i for i in Dates if i in wd_list_effective]\n",
    "    \n",
    "    # set up the df to store the experimental dates and the associated historical dates in the list format.\n",
    "    Dates_list = pd.DataFrame(index = range(40,70))\n",
    "    \n",
    "    # 随机抽取日期\n",
    "    for i in range(40,70):\n",
    "        np.random.seed(i) \n",
    "        Date = np.random.choice(Dates_wd)\n",
    "        Date = pd.to_datetime(Date)\n",
    "        historical_dates = [Date - pd.DateOffset(days=i) for i in range(1,7+1)]\n",
    "        Dates_list.loc[i,0] = Date.strftime('%Y-%m-%d') # from timestamps to str\n",
    "        for j,date in enumerate(historical_dates):\n",
    "            Dates_list.loc[i,j+1] = date.strftime('%Y-%m-%d')\n",
    "    \n",
    "    # inital the dates to be counted\n",
    "    num_wd = 0\n",
    "    num_weekend = 0\n",
    "    num_holiday = 0\n",
    "    Stats = pd.DataFrame(index = [num_charger], columns = [\"workday\",\"weekend\",\"holiday\"])\n",
    "    for col in Dates_list:\n",
    "        for item in Dates_list[col]:\n",
    "            if item in wd_list_effective:\n",
    "                num_wd += 1\n",
    "            elif item in holiday_list:\n",
    "                num_holiday += 1\n",
    "            else:\n",
    "                num_weekend += 1\n",
    "    Stats.loc[num_charger] = [num_wd,num_weekend,num_holiday]\n",
    "    \n",
    "    return Stats"
   ]
  },
  {
   "cell_type": "code",
   "execution_count": 48,
   "id": "a6c81a65",
   "metadata": {},
   "outputs": [
    {
     "data": {
      "text/html": [
       "<div>\n",
       "<style scoped>\n",
       "    .dataframe tbody tr th:only-of-type {\n",
       "        vertical-align: middle;\n",
       "    }\n",
       "\n",
       "    .dataframe tbody tr th {\n",
       "        vertical-align: top;\n",
       "    }\n",
       "\n",
       "    .dataframe thead th {\n",
       "        text-align: right;\n",
       "    }\n",
       "</style>\n",
       "<table border=\"1\" class=\"dataframe\">\n",
       "  <thead>\n",
       "    <tr style=\"text-align: right;\">\n",
       "      <th></th>\n",
       "      <th>workday</th>\n",
       "      <th>weekend</th>\n",
       "      <th>holiday</th>\n",
       "    </tr>\n",
       "  </thead>\n",
       "  <tbody>\n",
       "    <tr>\n",
       "      <th>10</th>\n",
       "      <td>173</td>\n",
       "      <td>64</td>\n",
       "      <td>3</td>\n",
       "    </tr>\n",
       "  </tbody>\n",
       "</table>\n",
       "</div>"
      ],
      "text/plain": [
       "   workday weekend holiday\n",
       "10     173      64       3"
      ]
     },
     "execution_count": 48,
     "metadata": {},
     "output_type": "execute_result"
    }
   ],
   "source": [
    "EVC_workplace_annual_10 = pd.read_csv(\"./result/EVC/EVC_workplace_10.csv\",index_col=0)\n",
    "stats_10 = stats_dates(EVC_workplace_annual_10,10)\n",
    "stats_10"
   ]
  },
  {
   "cell_type": "code",
   "execution_count": 49,
   "id": "3fb663f9",
   "metadata": {},
   "outputs": [
    {
     "data": {
      "text/html": [
       "<div>\n",
       "<style scoped>\n",
       "    .dataframe tbody tr th:only-of-type {\n",
       "        vertical-align: middle;\n",
       "    }\n",
       "\n",
       "    .dataframe tbody tr th {\n",
       "        vertical-align: top;\n",
       "    }\n",
       "\n",
       "    .dataframe thead th {\n",
       "        text-align: right;\n",
       "    }\n",
       "</style>\n",
       "<table border=\"1\" class=\"dataframe\">\n",
       "  <thead>\n",
       "    <tr style=\"text-align: right;\">\n",
       "      <th></th>\n",
       "      <th>workday</th>\n",
       "      <th>weekend</th>\n",
       "      <th>holiday</th>\n",
       "    </tr>\n",
       "  </thead>\n",
       "  <tbody>\n",
       "    <tr>\n",
       "      <th>50</th>\n",
       "      <td>172</td>\n",
       "      <td>64</td>\n",
       "      <td>4</td>\n",
       "    </tr>\n",
       "  </tbody>\n",
       "</table>\n",
       "</div>"
      ],
      "text/plain": [
       "   workday weekend holiday\n",
       "50     172      64       4"
      ]
     },
     "execution_count": 49,
     "metadata": {},
     "output_type": "execute_result"
    }
   ],
   "source": [
    "EVC_workplace_annual_50 = pd.read_csv(\"./result/EVC/EVC_workplace_50.csv\",index_col=0)\n",
    "stats_50 = stats_dates(EVC_workplace_annual_50,50)\n",
    "stats_50"
   ]
  },
  {
   "cell_type": "code",
   "execution_count": 50,
   "id": "912771ca",
   "metadata": {},
   "outputs": [
    {
     "data": {
      "text/html": [
       "<div>\n",
       "<style scoped>\n",
       "    .dataframe tbody tr th:only-of-type {\n",
       "        vertical-align: middle;\n",
       "    }\n",
       "\n",
       "    .dataframe tbody tr th {\n",
       "        vertical-align: top;\n",
       "    }\n",
       "\n",
       "    .dataframe thead th {\n",
       "        text-align: right;\n",
       "    }\n",
       "</style>\n",
       "<table border=\"1\" class=\"dataframe\">\n",
       "  <thead>\n",
       "    <tr style=\"text-align: right;\">\n",
       "      <th></th>\n",
       "      <th>workday</th>\n",
       "      <th>weekend</th>\n",
       "      <th>holiday</th>\n",
       "    </tr>\n",
       "  </thead>\n",
       "  <tbody>\n",
       "    <tr>\n",
       "      <th>90</th>\n",
       "      <td>170</td>\n",
       "      <td>66</td>\n",
       "      <td>4</td>\n",
       "    </tr>\n",
       "  </tbody>\n",
       "</table>\n",
       "</div>"
      ],
      "text/plain": [
       "   workday weekend holiday\n",
       "90     170      66       4"
      ]
     },
     "execution_count": 50,
     "metadata": {},
     "output_type": "execute_result"
    }
   ],
   "source": [
    "EVC_workplace_annual_90 = pd.read_csv(\"./result/EVC/EVC_workplace_90.csv\",index_col=0)\n",
    "stats_90 = stats_dates(EVC_workplace_annual_90,90)\n",
    "stats_90"
   ]
  },
  {
   "cell_type": "code",
   "execution_count": 51,
   "id": "aa5d8926",
   "metadata": {
    "scrolled": true
   },
   "outputs": [
    {
     "data": {
      "text/html": [
       "<div>\n",
       "<style scoped>\n",
       "    .dataframe tbody tr th:only-of-type {\n",
       "        vertical-align: middle;\n",
       "    }\n",
       "\n",
       "    .dataframe tbody tr th {\n",
       "        vertical-align: top;\n",
       "    }\n",
       "\n",
       "    .dataframe thead th {\n",
       "        text-align: right;\n",
       "    }\n",
       "</style>\n",
       "<table border=\"1\" class=\"dataframe\">\n",
       "  <thead>\n",
       "    <tr style=\"text-align: right;\">\n",
       "      <th></th>\n",
       "      <th>workday</th>\n",
       "      <th>weekend</th>\n",
       "      <th>holiday</th>\n",
       "    </tr>\n",
       "  </thead>\n",
       "  <tbody>\n",
       "    <tr>\n",
       "      <th>130</th>\n",
       "      <td>170</td>\n",
       "      <td>64</td>\n",
       "      <td>6</td>\n",
       "    </tr>\n",
       "  </tbody>\n",
       "</table>\n",
       "</div>"
      ],
      "text/plain": [
       "    workday weekend holiday\n",
       "130     170      64       6"
      ]
     },
     "execution_count": 51,
     "metadata": {},
     "output_type": "execute_result"
    }
   ],
   "source": [
    "EVC_workplace_annual_130 = pd.read_csv(\"./result/EVC/EVC_workplace_130.csv\",index_col=0)\n",
    "stats_130 = stats_dates(EVC_workplace_annual_130,130)\n",
    "stats_130"
   ]
  },
  {
   "cell_type": "code",
   "execution_count": 52,
   "id": "d562dc2b",
   "metadata": {
    "scrolled": true
   },
   "outputs": [
    {
     "data": {
      "text/html": [
       "<div>\n",
       "<style scoped>\n",
       "    .dataframe tbody tr th:only-of-type {\n",
       "        vertical-align: middle;\n",
       "    }\n",
       "\n",
       "    .dataframe tbody tr th {\n",
       "        vertical-align: top;\n",
       "    }\n",
       "\n",
       "    .dataframe thead th {\n",
       "        text-align: right;\n",
       "    }\n",
       "</style>\n",
       "<table border=\"1\" class=\"dataframe\">\n",
       "  <thead>\n",
       "    <tr style=\"text-align: right;\">\n",
       "      <th></th>\n",
       "      <th>workday</th>\n",
       "      <th>weekend</th>\n",
       "      <th>holiday</th>\n",
       "    </tr>\n",
       "  </thead>\n",
       "  <tbody>\n",
       "    <tr>\n",
       "      <th>170</th>\n",
       "      <td>169</td>\n",
       "      <td>64</td>\n",
       "      <td>7</td>\n",
       "    </tr>\n",
       "  </tbody>\n",
       "</table>\n",
       "</div>"
      ],
      "text/plain": [
       "    workday weekend holiday\n",
       "170     169      64       7"
      ]
     },
     "execution_count": 52,
     "metadata": {},
     "output_type": "execute_result"
    }
   ],
   "source": [
    "EVC_workplace_annual_170 = pd.read_csv(\"./result/EVC/EVC_workplace_170.csv\",index_col=0)\n",
    "stats_170 = stats_dates(EVC_workplace_annual_170,170)\n",
    "stats_170"
   ]
  },
  {
   "cell_type": "code",
   "execution_count": 53,
   "id": "1ea7a31a",
   "metadata": {
    "scrolled": true
   },
   "outputs": [
    {
     "data": {
      "text/html": [
       "<div>\n",
       "<style scoped>\n",
       "    .dataframe tbody tr th:only-of-type {\n",
       "        vertical-align: middle;\n",
       "    }\n",
       "\n",
       "    .dataframe tbody tr th {\n",
       "        vertical-align: top;\n",
       "    }\n",
       "\n",
       "    .dataframe thead th {\n",
       "        text-align: right;\n",
       "    }\n",
       "</style>\n",
       "<table border=\"1\" class=\"dataframe\">\n",
       "  <thead>\n",
       "    <tr style=\"text-align: right;\">\n",
       "      <th></th>\n",
       "      <th>workday</th>\n",
       "      <th>weekend</th>\n",
       "      <th>holiday</th>\n",
       "    </tr>\n",
       "  </thead>\n",
       "  <tbody>\n",
       "    <tr>\n",
       "      <th>210</th>\n",
       "      <td>173</td>\n",
       "      <td>64</td>\n",
       "      <td>3</td>\n",
       "    </tr>\n",
       "  </tbody>\n",
       "</table>\n",
       "</div>"
      ],
      "text/plain": [
       "    workday weekend holiday\n",
       "210     173      64       3"
      ]
     },
     "execution_count": 53,
     "metadata": {},
     "output_type": "execute_result"
    }
   ],
   "source": [
    "EVC_workplace_annual_210 = pd.read_csv(\"./result/EVC/EVC_workplace_210.csv\",index_col=0)\n",
    "stats_210 = stats_dates(EVC_workplace_annual_210,210)\n",
    "stats_210"
   ]
  },
  {
   "cell_type": "code",
   "execution_count": 54,
   "id": "8315ba39",
   "metadata": {
    "scrolled": true
   },
   "outputs": [
    {
     "data": {
      "text/html": [
       "<div>\n",
       "<style scoped>\n",
       "    .dataframe tbody tr th:only-of-type {\n",
       "        vertical-align: middle;\n",
       "    }\n",
       "\n",
       "    .dataframe tbody tr th {\n",
       "        vertical-align: top;\n",
       "    }\n",
       "\n",
       "    .dataframe thead th {\n",
       "        text-align: right;\n",
       "    }\n",
       "</style>\n",
       "<table border=\"1\" class=\"dataframe\">\n",
       "  <thead>\n",
       "    <tr style=\"text-align: right;\">\n",
       "      <th></th>\n",
       "      <th>workday</th>\n",
       "      <th>weekend</th>\n",
       "      <th>holiday</th>\n",
       "    </tr>\n",
       "  </thead>\n",
       "  <tbody>\n",
       "    <tr>\n",
       "      <th>250</th>\n",
       "      <td>171</td>\n",
       "      <td>64</td>\n",
       "      <td>5</td>\n",
       "    </tr>\n",
       "  </tbody>\n",
       "</table>\n",
       "</div>"
      ],
      "text/plain": [
       "    workday weekend holiday\n",
       "250     171      64       5"
      ]
     },
     "execution_count": 54,
     "metadata": {},
     "output_type": "execute_result"
    }
   ],
   "source": [
    "EVC_workplace_annual_250 = pd.read_csv(\"./result/EVC/EVC_workplace_250.csv\",index_col=0)\n",
    "stats_250 = stats_dates(EVC_workplace_annual_250,250)\n",
    "stats_250"
   ]
  },
  {
   "cell_type": "code",
   "execution_count": 55,
   "id": "9d0e479b",
   "metadata": {
    "scrolled": true
   },
   "outputs": [
    {
     "data": {
      "text/html": [
       "<div>\n",
       "<style scoped>\n",
       "    .dataframe tbody tr th:only-of-type {\n",
       "        vertical-align: middle;\n",
       "    }\n",
       "\n",
       "    .dataframe tbody tr th {\n",
       "        vertical-align: top;\n",
       "    }\n",
       "\n",
       "    .dataframe thead th {\n",
       "        text-align: right;\n",
       "    }\n",
       "</style>\n",
       "<table border=\"1\" class=\"dataframe\">\n",
       "  <thead>\n",
       "    <tr style=\"text-align: right;\">\n",
       "      <th></th>\n",
       "      <th>workday</th>\n",
       "      <th>weekend</th>\n",
       "      <th>holiday</th>\n",
       "    </tr>\n",
       "  </thead>\n",
       "  <tbody>\n",
       "    <tr>\n",
       "      <th>290</th>\n",
       "      <td>169</td>\n",
       "      <td>67</td>\n",
       "      <td>4</td>\n",
       "    </tr>\n",
       "  </tbody>\n",
       "</table>\n",
       "</div>"
      ],
      "text/plain": [
       "    workday weekend holiday\n",
       "290     169      67       4"
      ]
     },
     "execution_count": 55,
     "metadata": {},
     "output_type": "execute_result"
    }
   ],
   "source": [
    "EVC_workplace_annual_290 = pd.read_csv(\"./result/EVC/EVC_workplace_290.csv\",index_col=0)\n",
    "stats_290 = stats_dates(EVC_workplace_annual_290,290)\n",
    "stats_290"
   ]
  },
  {
   "cell_type": "code",
   "execution_count": 56,
   "id": "89b9ec59",
   "metadata": {
    "scrolled": true
   },
   "outputs": [
    {
     "data": {
      "text/html": [
       "<div>\n",
       "<style scoped>\n",
       "    .dataframe tbody tr th:only-of-type {\n",
       "        vertical-align: middle;\n",
       "    }\n",
       "\n",
       "    .dataframe tbody tr th {\n",
       "        vertical-align: top;\n",
       "    }\n",
       "\n",
       "    .dataframe thead th {\n",
       "        text-align: right;\n",
       "    }\n",
       "</style>\n",
       "<table border=\"1\" class=\"dataframe\">\n",
       "  <thead>\n",
       "    <tr style=\"text-align: right;\">\n",
       "      <th></th>\n",
       "      <th>workday</th>\n",
       "      <th>weekend</th>\n",
       "      <th>holiday</th>\n",
       "    </tr>\n",
       "  </thead>\n",
       "  <tbody>\n",
       "    <tr>\n",
       "      <th>330</th>\n",
       "      <td>173</td>\n",
       "      <td>64</td>\n",
       "      <td>3</td>\n",
       "    </tr>\n",
       "  </tbody>\n",
       "</table>\n",
       "</div>"
      ],
      "text/plain": [
       "    workday weekend holiday\n",
       "330     173      64       3"
      ]
     },
     "execution_count": 56,
     "metadata": {},
     "output_type": "execute_result"
    }
   ],
   "source": [
    "EVC_workplace_annual_330 = pd.read_csv(\"./result/EVC/EVC_workplace_330.csv\",index_col=0)\n",
    "stats_330 = stats_dates(EVC_workplace_annual_330,330)\n",
    "stats_330"
   ]
  },
  {
   "cell_type": "code",
   "execution_count": 57,
   "id": "37e309da",
   "metadata": {
    "scrolled": true
   },
   "outputs": [
    {
     "data": {
      "text/html": [
       "<div>\n",
       "<style scoped>\n",
       "    .dataframe tbody tr th:only-of-type {\n",
       "        vertical-align: middle;\n",
       "    }\n",
       "\n",
       "    .dataframe tbody tr th {\n",
       "        vertical-align: top;\n",
       "    }\n",
       "\n",
       "    .dataframe thead th {\n",
       "        text-align: right;\n",
       "    }\n",
       "</style>\n",
       "<table border=\"1\" class=\"dataframe\">\n",
       "  <thead>\n",
       "    <tr style=\"text-align: right;\">\n",
       "      <th></th>\n",
       "      <th>workday</th>\n",
       "      <th>weekend</th>\n",
       "      <th>holiday</th>\n",
       "    </tr>\n",
       "  </thead>\n",
       "  <tbody>\n",
       "    <tr>\n",
       "      <th>370</th>\n",
       "      <td>166</td>\n",
       "      <td>68</td>\n",
       "      <td>6</td>\n",
       "    </tr>\n",
       "  </tbody>\n",
       "</table>\n",
       "</div>"
      ],
      "text/plain": [
       "    workday weekend holiday\n",
       "370     166      68       6"
      ]
     },
     "execution_count": 57,
     "metadata": {},
     "output_type": "execute_result"
    }
   ],
   "source": [
    "EVC_workplace_annual_370 = pd.read_csv(\"./result/EVC/EVC_workplace_370.csv\",index_col=0)\n",
    "stats_370 = stats_dates(EVC_workplace_annual_370,370)\n",
    "stats_370"
   ]
  },
  {
   "cell_type": "code",
   "execution_count": 58,
   "id": "d32979a1",
   "metadata": {
    "scrolled": true
   },
   "outputs": [
    {
     "data": {
      "text/html": [
       "<div>\n",
       "<style scoped>\n",
       "    .dataframe tbody tr th:only-of-type {\n",
       "        vertical-align: middle;\n",
       "    }\n",
       "\n",
       "    .dataframe tbody tr th {\n",
       "        vertical-align: top;\n",
       "    }\n",
       "\n",
       "    .dataframe thead th {\n",
       "        text-align: right;\n",
       "    }\n",
       "</style>\n",
       "<table border=\"1\" class=\"dataframe\">\n",
       "  <thead>\n",
       "    <tr style=\"text-align: right;\">\n",
       "      <th></th>\n",
       "      <th>workday</th>\n",
       "      <th>weekend</th>\n",
       "      <th>holiday</th>\n",
       "    </tr>\n",
       "  </thead>\n",
       "  <tbody>\n",
       "    <tr>\n",
       "      <th>410</th>\n",
       "      <td>167</td>\n",
       "      <td>70</td>\n",
       "      <td>3</td>\n",
       "    </tr>\n",
       "  </tbody>\n",
       "</table>\n",
       "</div>"
      ],
      "text/plain": [
       "    workday weekend holiday\n",
       "410     167      70       3"
      ]
     },
     "execution_count": 58,
     "metadata": {},
     "output_type": "execute_result"
    }
   ],
   "source": [
    "EVC_workplace_annual_410 = pd.read_csv(\"./result/EVC/EVC_workplace_410.csv\",index_col=0)\n",
    "stats_410 = stats_dates(EVC_workplace_annual_410,410)\n",
    "stats_410"
   ]
  },
  {
   "cell_type": "code",
   "execution_count": 59,
   "id": "b5b59071",
   "metadata": {
    "scrolled": false
   },
   "outputs": [
    {
     "data": {
      "text/html": [
       "<div>\n",
       "<style scoped>\n",
       "    .dataframe tbody tr th:only-of-type {\n",
       "        vertical-align: middle;\n",
       "    }\n",
       "\n",
       "    .dataframe tbody tr th {\n",
       "        vertical-align: top;\n",
       "    }\n",
       "\n",
       "    .dataframe thead th {\n",
       "        text-align: right;\n",
       "    }\n",
       "</style>\n",
       "<table border=\"1\" class=\"dataframe\">\n",
       "  <thead>\n",
       "    <tr style=\"text-align: right;\">\n",
       "      <th></th>\n",
       "      <th>workday</th>\n",
       "      <th>weekend</th>\n",
       "      <th>holiday</th>\n",
       "    </tr>\n",
       "  </thead>\n",
       "  <tbody>\n",
       "    <tr>\n",
       "      <th>450</th>\n",
       "      <td>172</td>\n",
       "      <td>64</td>\n",
       "      <td>4</td>\n",
       "    </tr>\n",
       "  </tbody>\n",
       "</table>\n",
       "</div>"
      ],
      "text/plain": [
       "    workday weekend holiday\n",
       "450     172      64       4"
      ]
     },
     "execution_count": 59,
     "metadata": {},
     "output_type": "execute_result"
    }
   ],
   "source": [
    "EVC_workplace_annual_450 = pd.read_csv(\"./result/EVC/EVC_workplace_450.csv\",index_col=0)\n",
    "stats_450 = stats_dates(EVC_workplace_annual_450,450)\n",
    "stats_450"
   ]
  },
  {
   "cell_type": "code",
   "execution_count": 62,
   "id": "cde0f38b",
   "metadata": {
    "code_folding": []
   },
   "outputs": [],
   "source": [
    "stats = pd.concat(\n",
    "    [\n",
    "        stats_10,stats_50,stats_90,stats_130,stats_170,stats_210,stats_250,\n",
    "        stats_290,stats_330,stats_370,stats_410,stats_450\n",
    "    ]\n",
    "    ,axis = 0)"
   ]
  },
  {
   "cell_type": "code",
   "execution_count": 63,
   "id": "9dedded7",
   "metadata": {
    "collapsed": true
   },
   "outputs": [
    {
     "data": {
      "text/html": [
       "<div>\n",
       "<style scoped>\n",
       "    .dataframe tbody tr th:only-of-type {\n",
       "        vertical-align: middle;\n",
       "    }\n",
       "\n",
       "    .dataframe tbody tr th {\n",
       "        vertical-align: top;\n",
       "    }\n",
       "\n",
       "    .dataframe thead th {\n",
       "        text-align: right;\n",
       "    }\n",
       "</style>\n",
       "<table border=\"1\" class=\"dataframe\">\n",
       "  <thead>\n",
       "    <tr style=\"text-align: right;\">\n",
       "      <th></th>\n",
       "      <th>workday</th>\n",
       "      <th>weekend</th>\n",
       "      <th>holiday</th>\n",
       "    </tr>\n",
       "  </thead>\n",
       "  <tbody>\n",
       "    <tr>\n",
       "      <th>10</th>\n",
       "      <td>173</td>\n",
       "      <td>64</td>\n",
       "      <td>3</td>\n",
       "    </tr>\n",
       "    <tr>\n",
       "      <th>50</th>\n",
       "      <td>172</td>\n",
       "      <td>64</td>\n",
       "      <td>4</td>\n",
       "    </tr>\n",
       "    <tr>\n",
       "      <th>90</th>\n",
       "      <td>170</td>\n",
       "      <td>66</td>\n",
       "      <td>4</td>\n",
       "    </tr>\n",
       "    <tr>\n",
       "      <th>130</th>\n",
       "      <td>170</td>\n",
       "      <td>64</td>\n",
       "      <td>6</td>\n",
       "    </tr>\n",
       "    <tr>\n",
       "      <th>170</th>\n",
       "      <td>169</td>\n",
       "      <td>64</td>\n",
       "      <td>7</td>\n",
       "    </tr>\n",
       "    <tr>\n",
       "      <th>210</th>\n",
       "      <td>173</td>\n",
       "      <td>64</td>\n",
       "      <td>3</td>\n",
       "    </tr>\n",
       "    <tr>\n",
       "      <th>250</th>\n",
       "      <td>171</td>\n",
       "      <td>64</td>\n",
       "      <td>5</td>\n",
       "    </tr>\n",
       "    <tr>\n",
       "      <th>290</th>\n",
       "      <td>169</td>\n",
       "      <td>67</td>\n",
       "      <td>4</td>\n",
       "    </tr>\n",
       "    <tr>\n",
       "      <th>330</th>\n",
       "      <td>173</td>\n",
       "      <td>64</td>\n",
       "      <td>3</td>\n",
       "    </tr>\n",
       "    <tr>\n",
       "      <th>370</th>\n",
       "      <td>166</td>\n",
       "      <td>68</td>\n",
       "      <td>6</td>\n",
       "    </tr>\n",
       "    <tr>\n",
       "      <th>410</th>\n",
       "      <td>167</td>\n",
       "      <td>70</td>\n",
       "      <td>3</td>\n",
       "    </tr>\n",
       "    <tr>\n",
       "      <th>450</th>\n",
       "      <td>172</td>\n",
       "      <td>64</td>\n",
       "      <td>4</td>\n",
       "    </tr>\n",
       "  </tbody>\n",
       "</table>\n",
       "</div>"
      ],
      "text/plain": [
       "    workday weekend holiday\n",
       "10      173      64       3\n",
       "50      172      64       4\n",
       "90      170      66       4\n",
       "130     170      64       6\n",
       "170     169      64       7\n",
       "210     173      64       3\n",
       "250     171      64       5\n",
       "290     169      67       4\n",
       "330     173      64       3\n",
       "370     166      68       6\n",
       "410     167      70       3\n",
       "450     172      64       4"
      ]
     },
     "execution_count": 63,
     "metadata": {},
     "output_type": "execute_result"
    }
   ],
   "source": [
    "stats"
   ]
  },
  {
   "cell_type": "code",
   "execution_count": 69,
   "id": "51d94b73",
   "metadata": {},
   "outputs": [
    {
     "data": {
      "text/plain": [
       "[71.00694444444444, 27.187499999999996, 1.8055555555555554]"
      ]
     },
     "execution_count": 69,
     "metadata": {},
     "output_type": "execute_result"
    }
   ],
   "source": [
    "stats_percent = [i/stats.sum().sum() * 100 for i in stats.sum()]\n",
    "stats_percent"
   ]
  },
  {
   "cell_type": "code",
   "execution_count": 80,
   "id": "ee6ae380",
   "metadata": {},
   "outputs": [
    {
     "data": {
      "text/plain": [
       "[71.8840579710145, 26.666666666666668, 1.4492753623188406]"
      ]
     },
     "execution_count": 80,
     "metadata": {},
     "output_type": "execute_result"
    }
   ],
   "source": [
    "stan = [len(wd_list_effective),len(weekend_list_effective),len(holiday_effective)]\n",
    "stats_percent_stan = [i/sum(stan) * 100 for i in stan]\n",
    "stats_percent_stan"
   ]
  },
  {
   "cell_type": "code",
   "execution_count": 85,
   "id": "9b9c8e33",
   "metadata": {},
   "outputs": [
    {
     "data": {
      "image/png": "[encoded data removed]",
      "text/plain": [
       "<Figure size 640x480 with 1 Axes>"
      ]
     },
     "metadata": {},
     "output_type": "display_data"
    }
   ],
   "source": [
    "# 假设这是你的两个列表\n",
    "list1 = stats_percent\n",
    "list2 = stats_percent_stan\n",
    "\n",
    "# 设置数据\n",
    "labels = ['Workday', 'Weekend', 'Holiday']\n",
    "x = np.arange(len(labels))  # 标签位置\n",
    "width = 0.35  # 柱子的宽度\n",
    "\n",
    "fig, ax = plt.subplots()\n",
    "rects1 = ax.bar(x - width/2, list1, width, label='Case study')\n",
    "rects2 = ax.bar(x + width/2, list2, width, label='Ground truth')\n",
    "\n",
    "# 添加文本标签\n",
    "def add_labels(rects):\n",
    "    for rect in rects:\n",
    "        height = rect.get_height()\n",
    "        ax.annotate('{:.2f}'.format(height),\n",
    "                    xy=(rect.get_x() + rect.get_width() / 2, height),\n",
    "                    xytext=(0, 3),  # 3 points vertical offset\n",
    "                    textcoords=\"offset points\",\n",
    "                    ha='center', va='bottom')\n",
    "\n",
    "add_labels(rects1)\n",
    "add_labels(rects2)\n",
    "\n",
    "# 添加一些文本标签\n",
    "ax.set_ylabel('Percentage (%)')\n",
    "# ax.set_title('Comparison of Two Lists')\n",
    "ax.set_xticks(x)\n",
    "ax.set_xticklabels(labels)\n",
    "ax.legend()\n",
    "\n",
    "plt.savefig(\"./result/Figure/Bars of composition of experimental dates.svg\",bbox_inches='tight')\n",
    "\n",
    "# 显示图形\n",
    "plt.show()"
   ]
  }
 ],
 "metadata": {
  "hide_input": false,
  "kernelspec": {
   "display_name": "Python 3 (ipykernel)",
   "language": "python",
   "name": "python3"
  },
  "language_info": {
   "codemirror_mode": {
    "name": "ipython",
    "version": 3
   },
   "file_extension": ".py",
   "mimetype": "text/x-python",
   "name": "python",
   "nbconvert_exporter": "python",
   "pygments_lexer": "ipython3",
   "version": "3.11.3"
  },
  "toc": {
   "base_numbering": 1,
   "nav_menu": {},
   "number_sections": true,
   "sideBar": true,
   "skip_h1_title": false,
   "title_cell": "Table of Contents",
   "title_sidebar": "Contents",
   "toc_cell": false,
   "toc_position": {},
   "toc_section_display": true,
   "toc_window_display": false
  },
  "varInspector": {
   "cols": {
    "lenName": 16,
    "lenType": 16,
    "lenVar": 40
   },
   "kernels_config": {
    "python": {
     "delete_cmd_postfix": "",
     "delete_cmd_prefix": "del ",
     "library": "var_list.py",
     "varRefreshCmd": "print(var_dic_list())"
    },
    "r": {
     "delete_cmd_postfix": ") ",
     "delete_cmd_prefix": "rm(",
     "library": "var_list.r",
     "varRefreshCmd": "cat(var_dic_list()) "
    }
   },
   "types_to_exclude": [
    "module",
    "function",
    "builtin_function_or_method",
    "instance",
    "_Feature"
   ],
   "window_display": false
  }
 },
 "nbformat": 4,
 "nbformat_minor": 5
}
